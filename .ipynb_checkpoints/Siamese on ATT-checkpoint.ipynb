{
 "cells": [
  {
   "cell_type": "markdown",
   "metadata": {
    "colab_type": "text",
    "id": "y4teA3JWrAeg"
   },
   "source": [
    "# Face Recognition Using Siamese Network"
   ]
  },
  {
   "cell_type": "markdown",
   "metadata": {
    "colab_type": "text",
    "id": "KPPkk38brAeh"
   },
   "source": [
    "Note: this notebook is adapted from (from [Packt tutorial](https://hub.packtpub.com/face-recognition-using-siamese-networks-tutorial/), which seems to be a re-implementation from  [this Packt book on Neural Network Projects with Python](https://subscription.packtpub.com/book/big_data_and_business_intelligence/9781789138900)). See also [this Hackernoon tutorial](https://hackernoon.com/one-shot-learning-with-siamese-networks-in-pytorch-8ddaab10340e).\n",
    "\n",
    "We can better understand siamese networks by building such a system for  face recognition. \n",
    "The objective of this network is to measure how two faces are similar or dissimilar. \n"
   ]
  },
  {
   "cell_type": "code",
   "execution_count": 0,
   "metadata": {
    "colab": {
     "base_uri": "https://localhost:8080/",
     "height": 34
    },
    "colab_type": "code",
    "executionInfo": {
     "elapsed": 837,
     "status": "ok",
     "timestamp": 1567294251162,
     "user": {
      "displayName": "Swarnalata patra",
      "photoUrl": "https://lh3.googleusercontent.com/a-/AAuE7mDHwvq5ieIsBjvZ7af_tHAEz7Fbv0U4hvjWIkrWEQ=s64",
      "userId": "04308854459757051514"
     },
     "user_tz": -120
    },
    "id": "ip3Va9dtsf0g",
    "outputId": "1e525751-e7f9-42fb-9755-852764b7b665"
   },
   "outputs": [
    {
     "name": "stdout",
     "output_type": "stream",
     "text": [
      "Drive already mounted at /content/drive; to attempt to forcibly remount, call drive.mount(\"/content/drive\", force_remount=True).\n"
     ]
    }
   ],
   "source": [
    "from google.colab import drive\n",
    "drive.mount('/content/drive')"
   ]
  },
  {
   "cell_type": "code",
   "execution_count": 0,
   "metadata": {
    "colab": {
     "base_uri": "https://localhost:8080/",
     "height": 51
    },
    "colab_type": "code",
    "executionInfo": {
     "elapsed": 863,
     "status": "ok",
     "timestamp": 1567294256052,
     "user": {
      "displayName": "Swarnalata patra",
      "photoUrl": "https://lh3.googleusercontent.com/a-/AAuE7mDHwvq5ieIsBjvZ7af_tHAEz7Fbv0U4hvjWIkrWEQ=s64",
      "userId": "04308854459757051514"
     },
     "user_tz": -120
    },
    "id": "vY_wXEqesz_c",
    "outputId": "36f3c770-1ded-4747-9d6a-0a5a4688c336"
   },
   "outputs": [
    {
     "name": "stdout",
     "output_type": "stream",
     "text": [
      "[Errno 2] No such file or directory: 'drive/My Drive/Colab Notebooks/Biometrics/Assignment3b'\n",
      "/content/drive/My Drive/Colab Notebooks/Biometrics/Assignment3b\n"
     ]
    }
   ],
   "source": [
    "%cd drive/My\\ Drive/Colab\\ Notebooks/Biometrics/Assignment3b\n",
    "# pwd"
   ]
  },
  {
   "cell_type": "markdown",
   "metadata": {
    "colab_type": "text",
    "id": "T3htJB8frAei"
   },
   "source": [
    "## import required packages"
   ]
  },
  {
   "cell_type": "code",
   "execution_count": 0,
   "metadata": {
    "colab": {},
    "colab_type": "code",
    "id": "xbXFikAQrAej"
   },
   "outputs": [],
   "source": [
    "import numpy as np\n",
    "import numpy.random as rng\n",
    "\n",
    "from pathlib import Path\n",
    "\n",
    "import os\n",
    "import matplotlib.pyplot as plt\n",
    "%matplotlib inline\n",
    "\n",
    "# to be used with the plaidml backend \n",
    "# os.environ[\"KERAS_BACKEND\"] = \"plaidml.keras.backend\"\n",
    "# import plaidml.keras\n",
    "# plaidml.keras.install_backend()\n",
    "\n",
    "os.environ[\"KERAS_BACKEND\"] = \"tensorflow\"\n",
    "kerasBKED = os.environ[\"KERAS_BACKEND\"] \n",
    "import tensorflow as tf\n",
    "\n",
    "from keras.models import Sequential\n",
    "from keras.optimizers import Adam\n",
    "from keras.optimizers import RMSprop\n",
    "\n",
    "from keras.layers import Dropout, Conv2D, Convolution2D, ZeroPadding2D, Activation, Input, concatenate\n",
    "from keras.models import Model\n",
    "\n",
    "from keras.layers.normalization import BatchNormalization\n",
    "from keras.layers.pooling import MaxPooling2D\n",
    "from keras.layers.merge import Concatenate\n",
    "from keras.layers.core import Lambda, Flatten, Dense\n",
    "from keras.initializers import glorot_uniform\n",
    "\n",
    "from keras.engine.topology import Layer\n",
    "from keras.regularizers import l2\n",
    "from keras import backend as K\n",
    "\n",
    "from sklearn.model_selection import train_test_split\n",
    "from sklearn.preprocessing import LabelEncoder\n",
    "\n",
    "# local routine for loading images\n",
    "from localmodules.datasets import load_faces, get_dimensions, get_siamese_paired_data\n",
    "# local routine for constructing siamese network\n",
    "from localmodules.models import create_siamese_model, contrastive_loss, accuracy\n"
   ]
  },
  {
   "cell_type": "markdown",
   "metadata": {
    "colab_type": "text",
    "id": "6ohL5K1MrAem"
   },
   "source": [
    "#### Import face image data sets (Olivetti (AT&T), Labeled Faces in the Wild, Caltech)\n",
    "\n",
    "This is similar to the EigenFaces assignment import module\n",
    "\n",
    "The data are returned as a list object with the following components:\n",
    "* data: (NxM) matrix of N flattened (linear dimension M) images\n",
    "* images: (Nx(nxm)) matrix of N images of dimension nxm \n",
    "* target: N-dimensional vector of labels "
   ]
  },
  {
   "cell_type": "code",
   "execution_count": 0,
   "metadata": {
    "colab": {},
    "colab_type": "code",
    "id": "nh1fgsVHrAen"
   },
   "outputs": [],
   "source": [
    "# path to dataset for Caltech data\n",
    "caltechDataset = Path(\"../CalTechFacesDirs\")\n",
    "\n",
    "# type of database (ATT/LFW/CALTECH)\n",
    "facesDB = \"CALTECH\"\n",
    "\n",
    "# max number of persons to extract from database\n",
    "max_persons = None"
   ]
  },
  {
   "cell_type": "code",
   "execution_count": 0,
   "metadata": {
    "colab": {},
    "colab_type": "code",
    "id": "M99MmGjxrAep"
   },
   "outputs": [],
   "source": [
    "# Download the data, if not already on disk and load it as numpy arrays\n",
    "if facesDB == \"ATT\":\n",
    "    faces = load_faces(\"ATT\", dataset = None, min_faces=10, max_targets=max_persons)\n",
    "elif facesDB == \"LFW\": \n",
    "    faces = load_faces(\"LFW\", dataset = None, min_faces=10, max_targets=max_persons)\n",
    "elif facesDB == \"CALTECH\":\n",
    "    faces = load_faces(\"CALTECH\", dataset = caltechDataset, min_faces=10, max_targets=max_persons)\n",
    "    # convert string label to unique numeric id\n",
    "    y = faces.target\n",
    "    # encode the labels to integers\n",
    "    le = LabelEncoder()\n",
    "    faces.target = le.fit_transform(y)\n",
    "\n"
   ]
  },
  {
   "cell_type": "markdown",
   "metadata": {
    "colab_type": "text",
    "id": "TtQCJKLGrAer"
   },
   "source": [
    "## Print statistics of data set"
   ]
  },
  {
   "cell_type": "code",
   "execution_count": 0,
   "metadata": {
    "colab": {
     "base_uri": "https://localhost:8080/",
     "height": 170
    },
    "colab_type": "code",
    "executionInfo": {
     "elapsed": 882,
     "status": "ok",
     "timestamp": 1567294277690,
     "user": {
      "displayName": "Swarnalata patra",
      "photoUrl": "https://lh3.googleusercontent.com/a-/AAuE7mDHwvq5ieIsBjvZ7af_tHAEz7Fbv0U4hvjWIkrWEQ=s64",
      "userId": "04308854459757051514"
     },
     "user_tz": -120
    },
    "id": "-v1RpG7nrAes",
    "outputId": "d1adb28d-af0c-4b48-836e-8e99f2f473bf"
   },
   "outputs": [
    {
     "name": "stdout",
     "output_type": "stream",
     "text": [
      "Total dataset size:\n",
      "n_samples: 445\n",
      "n_examples: 17\n",
      "n_features: 2914\n",
      "n_classes: 26\n",
      "width: 47\n",
      "height: 62\n",
      "channels: 1\n"
     ]
    },
    {
     "data": {
      "text/plain": [
       "(445, 62, 47)"
      ]
     },
     "execution_count": 40,
     "metadata": {
      "tags": []
     },
     "output_type": "execute_result"
    }
   ],
   "source": [
    "n_samples, n_examples, n_classes, n_features, height, width, channels = get_dimensions(faces)\n",
    "print(\"Total dataset size:\")\n",
    "print(\"n_samples: %d\" % n_samples)\n",
    "print(\"n_examples: %d\" % n_examples)\n",
    "print(\"n_features: %d\" % n_features)\n",
    "print(\"n_classes: %d\" % n_classes)\n",
    "print(\"width: %d\" % width)\n",
    "print(\"height: %d\" % height)\n",
    "print(\"channels: %d\" % channels)\n",
    "\n",
    "faces.images.shape"
   ]
  },
  {
   "cell_type": "markdown",
   "metadata": {
    "colab_type": "text",
    "id": "GkYnMYhHrAeu"
   },
   "source": [
    "## Construct siamese set from initial set.\n",
    "\n",
    "The siamese set contains pairs of images that are labeled as either imposter (label 1) or genuine (label 0).\n",
    "\n",
    "*N_siamese* is the number of such pairs you generate.\n",
    "\n",
    "See the localmodules.dataset file for details how they are generated"
   ]
  },
  {
   "cell_type": "code",
   "execution_count": 0,
   "metadata": {
    "colab": {},
    "colab_type": "code",
    "id": "TB-7W6FRrAev"
   },
   "outputs": [],
   "source": [
    "N_siamese = 10000 # max can be n_samples**2\n",
    "X, y = get_siamese_paired_data(faces, N_siamese)"
   ]
  },
  {
   "cell_type": "code",
   "execution_count": 0,
   "metadata": {
    "colab": {
     "base_uri": "https://localhost:8080/",
     "height": 34
    },
    "colab_type": "code",
    "executionInfo": {
     "elapsed": 1073,
     "status": "ok",
     "timestamp": 1567294285143,
     "user": {
      "displayName": "Swarnalata patra",
      "photoUrl": "https://lh3.googleusercontent.com/a-/AAuE7mDHwvq5ieIsBjvZ7af_tHAEz7Fbv0U4hvjWIkrWEQ=s64",
      "userId": "04308854459757051514"
     },
     "user_tz": -120
    },
    "id": "QFrVmUDhrAex",
    "outputId": "b661c487-eba9-4bd5-e280-9e00f00162a4"
   },
   "outputs": [
    {
     "data": {
      "text/plain": [
       "(20000, 2, 62, 47, 1)"
      ]
     },
     "execution_count": 42,
     "metadata": {
      "tags": []
     },
     "output_type": "execute_result"
    }
   ],
   "source": [
    "X.shape"
   ]
  },
  {
   "cell_type": "code",
   "execution_count": 0,
   "metadata": {
    "colab": {
     "base_uri": "https://localhost:8080/",
     "height": 34
    },
    "colab_type": "code",
    "executionInfo": {
     "elapsed": 586,
     "status": "ok",
     "timestamp": 1567294287088,
     "user": {
      "displayName": "Swarnalata patra",
      "photoUrl": "https://lh3.googleusercontent.com/a-/AAuE7mDHwvq5ieIsBjvZ7af_tHAEz7Fbv0U4hvjWIkrWEQ=s64",
      "userId": "04308854459757051514"
     },
     "user_tz": -120
    },
    "id": "6M6hHOj0wpWm",
    "outputId": "a75ef069-c058-4d3e-fe87-251f281bc107"
   },
   "outputs": [
    {
     "data": {
      "text/plain": [
       "(20000,)"
      ]
     },
     "execution_count": 43,
     "metadata": {
      "tags": []
     },
     "output_type": "execute_result"
    }
   ],
   "source": [
    "y.shape"
   ]
  },
  {
   "cell_type": "markdown",
   "metadata": {
    "colab_type": "text",
    "id": "SLcwD5GIrAe0"
   },
   "source": [
    "## Split in training and test set"
   ]
  },
  {
   "cell_type": "code",
   "execution_count": 0,
   "metadata": {
    "colab": {},
    "colab_type": "code",
    "id": "I8fqZa2qrAe1"
   },
   "outputs": [],
   "source": [
    "x_train, x_test, y_train, y_test = train_test_split(X, y, test_size=.25, shuffle = False)"
   ]
  },
  {
   "cell_type": "code",
   "execution_count": 0,
   "metadata": {
    "colab": {
     "base_uri": "https://localhost:8080/",
     "height": 34
    },
    "colab_type": "code",
    "executionInfo": {
     "elapsed": 437,
     "status": "ok",
     "timestamp": 1567295564426,
     "user": {
      "displayName": "Swarnalata patra",
      "photoUrl": "https://lh3.googleusercontent.com/a-/AAuE7mDHwvq5ieIsBjvZ7af_tHAEz7Fbv0U4hvjWIkrWEQ=s64",
      "userId": "04308854459757051514"
     },
     "user_tz": -120
    },
    "id": "4VTwX6-IGBqD",
    "outputId": "cd895bed-3ab6-4c61-b205-c2f012c2ab8c"
   },
   "outputs": [
    {
     "name": "stdout",
     "output_type": "stream",
     "text": [
      "(15000, 2, 62, 47, 1) (5000, 2, 62, 47, 1)\n"
     ]
    }
   ],
   "source": [
    "print(x_train.shape, x_test.shape)"
   ]
  },
  {
   "cell_type": "markdown",
   "metadata": {
    "colab_type": "text",
    "id": "2ZtTbjwirAe3"
   },
   "source": [
    "Verify by random sampling if genuine and imposter pairs are correctly constructed"
   ]
  },
  {
   "cell_type": "code",
   "execution_count": 0,
   "metadata": {
    "colab": {
     "base_uri": "https://localhost:8080/",
     "height": 269
    },
    "colab_type": "code",
    "executionInfo": {
     "elapsed": 735,
     "status": "ok",
     "timestamp": 1567294320001,
     "user": {
      "displayName": "Swarnalata patra",
      "photoUrl": "https://lh3.googleusercontent.com/a-/AAuE7mDHwvq5ieIsBjvZ7af_tHAEz7Fbv0U4hvjWIkrWEQ=s64",
      "userId": "04308854459757051514"
     },
     "user_tz": -120
    },
    "id": "_IVp_gzyrAe4",
    "outputId": "e93ac984-ac28-4237-be6f-6582aa8a8890"
   },
   "outputs": [
    {
     "data": {
      "image/png": "[encoded data removed]",
      "text/plain": [
       "<Figure size 432x288 with 1 Axes>"
      ]
     },
     "metadata": {
      "tags": []
     },
     "output_type": "display_data"
    }
   ],
   "source": [
    "subj_nr = 1000\n",
    "\n",
    "plt.imshow(np.squeeze(x_train[subj_nr,0]),cmap='gray');  "
   ]
  },
  {
   "cell_type": "code",
   "execution_count": 0,
   "metadata": {
    "colab": {
     "base_uri": "https://localhost:8080/",
     "height": 286
    },
    "colab_type": "code",
    "executionInfo": {
     "elapsed": 658,
     "status": "ok",
     "timestamp": 1567294322713,
     "user": {
      "displayName": "Swarnalata patra",
      "photoUrl": "https://lh3.googleusercontent.com/a-/AAuE7mDHwvq5ieIsBjvZ7af_tHAEz7Fbv0U4hvjWIkrWEQ=s64",
      "userId": "04308854459757051514"
     },
     "user_tz": -120
    },
    "id": "E7rFFJ28rAe7",
    "outputId": "1d9df9e5-3492-4b78-f87a-6c8a6fbf2cb4"
   },
   "outputs": [
    {
     "data": {
      "text/plain": [
       "0.0"
      ]
     },
     "execution_count": 46,
     "metadata": {
      "tags": []
     },
     "output_type": "execute_result"
    },
    {
     "data": {
      "image/png": "[encoded data removed]",
      "text/plain": [
       "<Figure size 432x288 with 1 Axes>"
      ]
     },
     "metadata": {
      "tags": []
     },
     "output_type": "display_data"
    }
   ],
   "source": [
    "plt.imshow(np.squeeze(x_train[subj_nr,1]),cmap='gray'); \n",
    "y_train[subj_nr]"
   ]
  },
  {
   "cell_type": "markdown",
   "metadata": {
    "colab_type": "text",
    "id": "vw0x3RycrAe9"
   },
   "source": [
    "## Simple CNN Model\n",
    "\n",
    "The localmodules.models file contains the description of a shallow CNN model that is trained with [contrastive loss] (https://www.cs.cmu.edu/~rsalakhu/papers/oneshot1.pdf). \n",
    "A contrastive energy function which contained dual terms to decrease the energy of like pairs and increase the energy of unlike pairs.\n",
    "\n",
    "This subnetwork is copied twice and the output of both siamese copies are then passed onto a vector euclidean distance (ED) calculation layer. The network gets as input pairs of imposter or genuine images with the associated label (genuine = 0, imposter = 1).\n",
    "\n",
    "The network itself outputs the ED betweeen pairs of embedded representations (right before the distance calculation). Use this distance measure for verification and identification tests.\n",
    "\n",
    "Note: you can change the CNN at your will, but beware that it might take additional training time."
   ]
  },
  {
   "cell_type": "code",
   "execution_count": 0,
   "metadata": {
    "colab": {
     "base_uri": "https://localhost:8080/",
     "height": 323
    },
    "colab_type": "code",
    "executionInfo": {
     "elapsed": 460,
     "status": "ok",
     "timestamp": 1567294327452,
     "user": {
      "displayName": "Swarnalata patra",
      "photoUrl": "https://lh3.googleusercontent.com/a-/AAuE7mDHwvq5ieIsBjvZ7af_tHAEz7Fbv0U4hvjWIkrWEQ=s64",
      "userId": "04308854459757051514"
     },
     "user_tz": -120
    },
    "id": "QSGvf3g1rAe-",
    "outputId": "3560a2e7-d4a9-4bdc-da5e-05b04f5a59a2"
   },
   "outputs": [
    {
     "name": "stdout",
     "output_type": "stream",
     "text": [
      "Model: \"model_2\"\n",
      "__________________________________________________________________________________________________\n",
      "Layer (type)                    Output Shape         Param #     Connected to                     \n",
      "==================================================================================================\n",
      "input_3 (InputLayer)            (None, 62, 47, 1)    0                                            \n",
      "__________________________________________________________________________________________________\n",
      "input_4 (InputLayer)            (None, 62, 47, 1)    0                                            \n",
      "__________________________________________________________________________________________________\n",
      "sequential_2 (Sequential)       (None, 128)          1222080     input_3[0][0]                    \n",
      "                                                                 input_4[0][0]                    \n",
      "__________________________________________________________________________________________________\n",
      "lambda_2 (Lambda)               (None, 1)            0           sequential_2[1][0]               \n",
      "                                                                 sequential_2[2][0]               \n",
      "==================================================================================================\n",
      "Total params: 1,222,080\n",
      "Trainable params: 1,222,080\n",
      "Non-trainable params: 0\n",
      "__________________________________________________________________________________________________\n"
     ]
    }
   ],
   "source": [
    "model = create_siamese_model(x_train.shape[2:])\n",
    "model.summary()"
   ]
  },
  {
   "cell_type": "markdown",
   "metadata": {
    "colab_type": "text",
    "id": "eT4bSBS4rAfA"
   },
   "source": [
    "Print the network graph"
   ]
  },
  {
   "cell_type": "code",
   "execution_count": 0,
   "metadata": {
    "colab": {
     "base_uri": "https://localhost:8080/",
     "height": 164
    },
    "colab_type": "code",
    "executionInfo": {
     "elapsed": 828,
     "status": "ok",
     "timestamp": 1567294346353,
     "user": {
      "displayName": "Swarnalata patra",
      "photoUrl": "https://lh3.googleusercontent.com/a-/AAuE7mDHwvq5ieIsBjvZ7af_tHAEz7Fbv0U4hvjWIkrWEQ=s64",
      "userId": "04308854459757051514"
     },
     "user_tz": -120
    },
    "id": "jzA04gkdrAfA",
    "outputId": "4d1cd509-eac8-4f5e-b65d-10052c561d6b"
   },
   "outputs": [
    {
     "data": {
      "image/png": "[encoded data removed]",
      "text/plain": [
       "<IPython.core.display.Image object>"
      ]
     },
     "execution_count": 48,
     "metadata": {
      "image/png": {
       "height": 147,
       "width": 428
      },
      "tags": []
     },
     "output_type": "execute_result"
    }
   ],
   "source": [
    "from keras.utils import plot_model\n",
    "plot_model(model, to_file='model.png', \n",
    "           show_shapes = True, show_layer_names = True)\n",
    "\n",
    "from IPython.display import Image\n",
    "Image(retina=True, filename='model.png')"
   ]
  },
  {
   "cell_type": "markdown",
   "metadata": {
    "colab_type": "text",
    "id": "NXU3cfWqrAfD"
   },
   "source": [
    "The network will be trained with contrastive loss as objective function and Adam optimizer. It outputs an additional accuracay measure (which uses an arbitrarily set threshold = 0.5). The threshold can be determined later on through e.g. max F1-score"
   ]
  },
  {
   "cell_type": "code",
   "execution_count": 0,
   "metadata": {
    "colab": {},
    "colab_type": "code",
    "id": "1KRRcHZ1rAfD"
   },
   "outputs": [],
   "source": [
    "from keras.optimizers import RMSprop\n",
    "\n",
    "rms = Adam()\n",
    "model.compile(loss=contrastive_loss, optimizer=rms, metrics = ['accuracy'])"
   ]
  },
  {
   "cell_type": "markdown",
   "metadata": {
    "colab_type": "text",
    "id": "Xz_PUt1BrAfF"
   },
   "source": [
    "### Fit/train the model. \n",
    "\n",
    "Depending on the complexity of the Siamese network this might take a while. You can also change the number of epochs to improve the training (with the risk of overfitting). You will notice that a small number (<10) of epochs already gets you a decent performance\n"
   ]
  },
  {
   "cell_type": "code",
   "execution_count": 0,
   "metadata": {
    "colab": {
     "base_uri": "https://localhost:8080/",
     "height": 258
    },
    "colab_type": "code",
    "executionInfo": {
     "elapsed": 512663,
     "status": "ok",
     "timestamp": 1567294977378,
     "user": {
      "displayName": "Swarnalata patra",
      "photoUrl": "https://lh3.googleusercontent.com/a-/AAuE7mDHwvq5ieIsBjvZ7af_tHAEz7Fbv0U4hvjWIkrWEQ=s64",
      "userId": "04308854459757051514"
     },
     "user_tz": -120
    },
    "id": "sj0ofuaKrAfH",
    "outputId": "fa9e9c85-f71f-41dc-ef67-6fe26949fc67"
   },
   "outputs": [
    {
     "name": "stderr",
     "output_type": "stream",
     "text": [
      "W0831 23:34:26.568220 139961645848448 deprecation.py:323] From /usr/local/lib/python3.6/dist-packages/tensorflow/python/ops/math_grad.py:1250: add_dispatch_support.<locals>.wrapper (from tensorflow.python.ops.array_ops) is deprecated and will be removed in a future version.\n",
      "Instructions for updating:\n",
      "Use tf.where in 2.0, which has the same broadcast rule as np.where\n",
      "W0831 23:34:26.746773 139961645848448 deprecation_wrapper.py:119] From /usr/local/lib/python3.6/dist-packages/keras/backend/tensorflow_backend.py:1033: The name tf.assign_add is deprecated. Please use tf.compat.v1.assign_add instead.\n",
      "\n",
      "W0831 23:34:26.852047 139961645848448 deprecation_wrapper.py:119] From /usr/local/lib/python3.6/dist-packages/keras/backend/tensorflow_backend.py:1020: The name tf.assign is deprecated. Please use tf.compat.v1.assign instead.\n",
      "\n"
     ]
    },
    {
     "name": "stdout",
     "output_type": "stream",
     "text": [
      "Train on 11250 samples, validate on 3750 samples\n",
      "Epoch 1/2\n",
      " - 256s - loss: 0.0286 - acc: 0.9322 - val_loss: 0.0873 - val_acc: 0.6379\n",
      "Epoch 2/2\n",
      " - 256s - loss: 0.0117 - acc: 0.9612 - val_loss: 0.0346 - val_acc: 0.6149\n"
     ]
    },
    {
     "data": {
      "text/plain": [
       "<keras.callbacks.History at 0x7f4b10978a20>"
      ]
     },
     "execution_count": 51,
     "metadata": {
      "tags": []
     },
     "output_type": "execute_result"
    }
   ],
   "source": [
    "epochs = 2\n",
    "model.fit([x_train[:, 0], x_train[:, 1]], y_train, \n",
    "          validation_split=.25,\n",
    "          batch_size=64, verbose=2, epochs=epochs)"
   ]
  },
  {
   "cell_type": "markdown",
   "metadata": {
    "colab_type": "text",
    "id": "9NsCW5tTrAfK"
   },
   "source": [
    "### For further testing it might be worthwhile saving a time-consuming trained network"
   ]
  },
  {
   "cell_type": "code",
   "execution_count": 0,
   "metadata": {
    "colab": {},
    "colab_type": "code",
    "id": "vz_C0L2BrAfL"
   },
   "outputs": [],
   "source": [
    "model.save(\"siamese_nn_128_64.h5\")"
   ]
  },
  {
   "cell_type": "markdown",
   "metadata": {
    "colab_type": "text",
    "id": "XUFmbgQPrAfN"
   },
   "source": [
    "### Apply the network to the test data"
   ]
  },
  {
   "cell_type": "code",
   "execution_count": 0,
   "metadata": {
    "colab": {},
    "colab_type": "code",
    "id": "KFEQCm_xrAfN"
   },
   "outputs": [],
   "source": [
    "pred = model.predict([x_test[:, 0], x_test[:, 1]])"
   ]
  },
  {
   "cell_type": "code",
   "execution_count": 0,
   "metadata": {
    "colab": {
     "base_uri": "https://localhost:8080/",
     "height": 136
    },
    "colab_type": "code",
    "executionInfo": {
     "elapsed": 469,
     "status": "ok",
     "timestamp": 1567295511208,
     "user": {
      "displayName": "Swarnalata patra",
      "photoUrl": "https://lh3.googleusercontent.com/a-/AAuE7mDHwvq5ieIsBjvZ7af_tHAEz7Fbv0U4hvjWIkrWEQ=s64",
      "userId": "04308854459757051514"
     },
     "user_tz": -120
    },
    "id": "VMtIqY90FxQN",
    "outputId": "180ca8a8-b6c6-4905-f655-1bd418c7596e"
   },
   "outputs": [
    {
     "data": {
      "text/plain": [
       "array([[1.3053924],\n",
       "       [1.662148 ],\n",
       "       [1.0930641],\n",
       "       ...,\n",
       "       [1.4391108],\n",
       "       [1.4630299],\n",
       "       [1.927055 ]], dtype=float32)"
      ]
     },
     "execution_count": 56,
     "metadata": {
      "tags": []
     },
     "output_type": "execute_result"
    }
   ],
   "source": [
    "pred"
   ]
  },
  {
   "cell_type": "markdown",
   "metadata": {
    "colab_type": "text",
    "id": "b8l4kMx7rAfU"
   },
   "source": [
    "### Calculate accuracy (for an arbitrary threshold of the distance set at 0.5)"
   ]
  },
  {
   "cell_type": "code",
   "execution_count": 0,
   "metadata": {
    "colab": {},
    "colab_type": "code",
    "id": "CLhkdlQ5rAfU"
   },
   "outputs": [],
   "source": [
    "def compute_accuracy(predictions, labels):\n",
    "    return labels[predictions.ravel() > 0.5].sum()/len(predictions.ravel())"
   ]
  },
  {
   "cell_type": "code",
   "execution_count": 0,
   "metadata": {
    "colab": {
     "base_uri": "https://localhost:8080/",
     "height": 34
    },
    "colab_type": "code",
    "executionInfo": {
     "elapsed": 447,
     "status": "ok",
     "timestamp": 1567295604226,
     "user": {
      "displayName": "Swarnalata patra",
      "photoUrl": "https://lh3.googleusercontent.com/a-/AAuE7mDHwvq5ieIsBjvZ7af_tHAEz7Fbv0U4hvjWIkrWEQ=s64",
      "userId": "04308854459757051514"
     },
     "user_tz": -120
    },
    "id": "kC352rY-rAfZ",
    "outputId": "e9768f5b-5f67-4243-d962-c71eb56b2d6b"
   },
   "outputs": [
    {
     "data": {
      "text/plain": [
       "0.9008"
      ]
     },
     "execution_count": 59,
     "metadata": {
      "tags": []
     },
     "output_type": "execute_result"
    }
   ],
   "source": [
    "compute_accuracy(pred, y_test)"
   ]
  },
  {
   "cell_type": "markdown",
   "metadata": {
    "colab_type": "text",
    "id": "YrL6t2d5rAfe"
   },
   "source": [
    "### Calculate pairwise distances for further analysis"
   ]
  },
  {
   "cell_type": "code",
   "execution_count": 0,
   "metadata": {
    "colab": {
     "base_uri": "https://localhost:8080/",
     "height": 34
    },
    "colab_type": "code",
    "executionInfo": {
     "elapsed": 159038,
     "status": "ok",
     "timestamp": 1567295774732,
     "user": {
      "displayName": "Swarnalata patra",
      "photoUrl": "https://lh3.googleusercontent.com/a-/AAuE7mDHwvq5ieIsBjvZ7af_tHAEz7Fbv0U4hvjWIkrWEQ=s64",
      "userId": "04308854459757051514"
     },
     "user_tz": -120
    },
    "id": "miWP4ljIrAff",
    "outputId": "60055ffb-a5ff-4867-dda0-fa018041ad23"
   },
   "outputs": [
    {
     "data": {
      "application/vnd.jupyter.widget-view+json": {
       "model_id": "2f1ab557f6334274a32e64718c618426",
       "version_major": 2,
       "version_minor": 0
      },
      "text/plain": [
       "HBox(children=(IntProgress(value=0, max=221), HTML(value='')))"
      ]
     },
     "metadata": {
      "tags": []
     },
     "output_type": "display_data"
    },
    {
     "name": "stdout",
     "output_type": "stream",
     "text": [
      "\n"
     ]
    }
   ],
   "source": [
    "from localmodules.distance import L2_distance\n",
    "from tqdm import tqdm_notebook\n",
    "import numpy.random as rng\n",
    "\n",
    "distances = [] # distance between pairs\n",
    "identical = [] # 1 if same identity, 0 otherwise\n",
    "\n",
    "num = int(n_samples/2)\n",
    "samples = rng.choice(n_samples,size=num,replace=False)\n",
    "\n",
    "# num = n_samples\n",
    "I = np.zeros((num, num))\n",
    "\n",
    "for i in tqdm_notebook(range(num-1)):\n",
    "    for j in range(i, num):\n",
    "        # Euclidean norm as distance\n",
    "        imgi = np.expand_dims(faces.images[i], axis = 0)\n",
    "        imgi = np.expand_dims(imgi, axis = 3)\n",
    "\n",
    "        imgj = np.expand_dims(faces.images[j], axis = 0)\n",
    "        imgj = np.expand_dims(imgj, axis = 3)\n",
    "\n",
    "        distances.append(model.predict([imgi, imgj])[0][0])\n",
    "        if faces.target[i] == faces.target[j]:\n",
    "            identical.append(True)\n",
    "            I[i,j] =  I[j,i] = 1\n",
    "        else:\n",
    "            identical.append(False)\n",
    "        \n",
    "distances = np.array(distances)\n",
    "# convert to normalized [0,1] score (the higher the better)\n",
    "scores = (distances.max() - distances)/distances.max()\n",
    "identical = np.array(identical)"
   ]
  },
  {
   "cell_type": "markdown",
   "metadata": {
    "colab_type": "text",
    "id": "USUBPE-VrAfh"
   },
   "source": [
    "### Compute accuracy and F1 scores for different thresholds\n",
    "\n",
    "From here on, you can apply the same techniques as fot PCA/LBP based face recognition\n"
   ]
  },
  {
   "cell_type": "code",
   "execution_count": 0,
   "metadata": {
    "colab": {},
    "colab_type": "code",
    "id": "EdHU4PbArAfh"
   },
   "outputs": [],
   "source": [
    "from sklearn.metrics import f1_score, accuracy_score\n",
    "\n",
    "# set threshold range - list of 50 values from 0.0 to 1.0\n",
    "thresholds = np.linspace(0.0, 1.0, 50,dtype=list, endpoint=False).tolist()\n",
    "\n",
    "len_t = len(thresholds)\n",
    "len_s = len(scores)\n",
    "\n",
    "f1 = np.zeros(len_t)\n",
    "acc = np.zeros(len_t)\n",
    "\n",
    "for i in range(len_t):\n",
    "    pred_scores=[]\n",
    "    for j in range(len_s):\n",
    "        if scores[j] < thresholds[i]: #anything below threshold is considered not matching\n",
    "            pred_scores.append(0)\n",
    "            \n",
    "        elif scores[j] >= thresholds[i]: #anything equal or greater than threshold is considered as truely identical\n",
    "            pred_scores.append(1)\n",
    "    f1[i] = f1_score(identical,pred_scores)\n",
    "    acc[i] = accuracy_score(identical,pred_scores)\n"
   ]
  },
  {
   "cell_type": "code",
   "execution_count": 0,
   "metadata": {
    "colab": {
     "base_uri": "https://localhost:8080/",
     "height": 34
    },
    "colab_type": "code",
    "executionInfo": {
     "elapsed": 410,
     "status": "ok",
     "timestamp": 1567296582884,
     "user": {
      "displayName": "Swarnalata patra",
      "photoUrl": "https://lh3.googleusercontent.com/a-/AAuE7mDHwvq5ieIsBjvZ7af_tHAEz7Fbv0U4hvjWIkrWEQ=s64",
      "userId": "04308854459757051514"
     },
     "user_tz": -120
    },
    "id": "TfZzDbW4EfYE",
    "outputId": "b20aee7b-ec50-4657-b403-e6038181a23d"
   },
   "outputs": [
    {
     "name": "stdout",
     "output_type": "stream",
     "text": [
      "0.9 0.6518600777345919\n"
     ]
    }
   ],
   "source": [
    "# Determine optimal Threshold \n",
    "opt_thresh = thresholds[np.where(f1 == np.amax(f1))[0][0]]\n",
    "opt_f1 = f1[np.where(f1 == np.amax(f1))[0][0]]\n",
    "# print(opt_thresh, opt_f1)"
   ]
  },
  {
   "cell_type": "code",
   "execution_count": 0,
   "metadata": {
    "colab": {
     "base_uri": "https://localhost:8080/",
     "height": 295
    },
    "colab_type": "code",
    "executionInfo": {
     "elapsed": 747,
     "status": "ok",
     "timestamp": 1567296726650,
     "user": {
      "displayName": "Swarnalata patra",
      "photoUrl": "https://lh3.googleusercontent.com/a-/AAuE7mDHwvq5ieIsBjvZ7af_tHAEz7Fbv0U4hvjWIkrWEQ=s64",
      "userId": "04308854459757051514"
     },
     "user_tz": -120
    },
    "id": "TEerlCW2KYjx",
    "outputId": "22e45575-791e-481d-f42b-b6376d429bfb"
   },
   "outputs": [
    {
     "data": {
      "image/png": "[encoded data removed]",
      "text/plain": [
       "<Figure size 432x288 with 1 Axes>"
      ]
     },
     "metadata": {
      "tags": []
     },
     "output_type": "display_data"
    }
   ],
   "source": [
    "# Plot F1 score and accuracy as function of distance threshold\n",
    "def plot_f1_acc(f1,acc,thresh):\n",
    "    plt.plot(thresh, acc, 'g',label='accuracy') # plotting t, a separately \n",
    "    plt.plot(thresh, f1, 'b',label='f1 score') # plotting t, b separately \n",
    "    plt.axvline(x=opt_thresh,c='r',label='opt thresh at {}'.format(opt_thresh))\n",
    "    plt.title(\"F1 score and Accuracy Plot vs Threshold\")\n",
    "    plt.xlabel(\"Threshold values\")\n",
    "    plt.legend(loc='upper left')\n",
    "    plt.show()\n",
    "    \n",
    "plot_f1_acc(f1,acc,thresholds)"
   ]
  },
  {
   "cell_type": "markdown",
   "metadata": {
    "colab_type": "text",
    "id": "L1dCMzqkrAfk"
   },
   "source": [
    "### Plot genuine and imposter scores"
   ]
  },
  {
   "cell_type": "code",
   "execution_count": 0,
   "metadata": {
    "colab": {
     "base_uri": "https://localhost:8080/",
     "height": 281
    },
    "colab_type": "code",
    "executionInfo": {
     "elapsed": 1338,
     "status": "ok",
     "timestamp": 1567297629339,
     "user": {
      "displayName": "Swarnalata patra",
      "photoUrl": "https://lh3.googleusercontent.com/a-/AAuE7mDHwvq5ieIsBjvZ7af_tHAEz7Fbv0U4hvjWIkrWEQ=s64",
      "userId": "04308854459757051514"
     },
     "user_tz": -120
    },
    "id": "ONjj4wI4Kx4h",
    "outputId": "95debf38-7d75-465f-a983-0ed0449275c6"
   },
   "outputs": [
    {
     "data": {
      "image/png": "[encoded data removed]",
      "text/plain": [
       "<Figure size 432x288 with 1 Axes>"
      ]
     },
     "metadata": {
      "tags": []
     },
     "output_type": "display_data"
    }
   ],
   "source": [
    "gen=[]\n",
    "imp=[]\n",
    "\n",
    "for k in range(len_s):\n",
    "    if identical[k]==1:\n",
    "        gen.append(scores[k])\n",
    "    else:\n",
    "        imp.append(scores[k])\n",
    "\n",
    "plt.hist(gen, bins=100,alpha=0.5)\n",
    "plt.hist(imp, bins=100,alpha=0.5)\n",
    "plt.axvline(opt_thresh, color='k', linestyle='dashed', linewidth=1)\n",
    "plt.legend(['Threshold','Genuine', 'Impostor'])\n",
    "plt.title('genuine and impostor score')\n",
    "plt.show()"
   ]
  },
  {
   "cell_type": "code",
   "execution_count": 0,
   "metadata": {
    "colab": {},
    "colab_type": "code",
    "id": "tGotqAAjrAfk",
    "outputId": "3c16011e-c034-472b-c3e6-fd86780a8da8"
   },
   "outputs": [
    {
     "data": {
      "image/png": "[encoded data removed]",
      "text/plain": [
       "<Figure size 432x288 with 1 Axes>"
      ]
     },
     "metadata": {
      "needs_background": "light",
      "tags": []
     },
     "output_type": "display_data"
    }
   ],
   "source": [
    "# DO NOT DELETE (GIVEN - for comparison)"
   ]
  },
  {
   "cell_type": "markdown",
   "metadata": {
    "colab_type": "text",
    "id": "kY11OdwKOX0I"
   },
   "source": [
    "#### EER and ROC curve"
   ]
  },
  {
   "cell_type": "code",
   "execution_count": 0,
   "metadata": {
    "colab": {
     "base_uri": "https://localhost:8080/",
     "height": 363
    },
    "colab_type": "code",
    "executionInfo": {
     "elapsed": 828,
     "status": "ok",
     "timestamp": 1567298268653,
     "user": {
      "displayName": "Swarnalata patra",
      "photoUrl": "https://lh3.googleusercontent.com/a-/AAuE7mDHwvq5ieIsBjvZ7af_tHAEz7Fbv0U4hvjWIkrWEQ=s64",
      "userId": "04308854459757051514"
     },
     "user_tz": -120
    },
    "id": "ubMXT0o7ObH8",
    "outputId": "184e5a37-077c-4b4a-e8fa-6188c7e92b98"
   },
   "outputs": [
    {
     "data": {
      "image/png": "[encoded data removed]",
      "text/plain": [
       "<Figure size 432x288 with 1 Axes>"
      ]
     },
     "metadata": {
      "tags": []
     },
     "output_type": "display_data"
    },
    {
     "name": "stdout",
     "output_type": "stream",
     "text": [
      "Area under the ROC curve =  0.7745451087100336\n",
      "EER =  0.3969803057419516\n",
      "fpr = 0.02696473841899055\n",
      "tpr = 0.5760549558390579\n"
     ]
    }
   ],
   "source": [
    "# EER\n",
    "from sklearn.metrics import roc_curve, auc\n",
    "\n",
    "pred_scores = np.zeros(len_s)\n",
    "\n",
    "for k in range(len_s):\n",
    "    if scores[k] > opt_thresh:\n",
    "        pred_scores[k]=1        \n",
    "    else:\n",
    "        pred_scores[k]=0\n",
    "        \n",
    "fpr, tpr, thresholds = roc_curve(pred_scores, identical, pos_label=1)\n",
    "roc_auc = auc(fpr, tpr)\n",
    "\n",
    "plt.plot([1, 0],[0, 1], linestyle='--',label='EER intersection')\n",
    "\n",
    "# plot the roc curve for the model\n",
    "plt.plot(fpr, tpr, marker='.',label='ROC')\n",
    "plt.xlabel('False Positive Rate')\n",
    "plt.ylabel('True Positive Rate')\n",
    "plt.title('Receiver operating characteristic')\n",
    "plt.legend(loc='right')\n",
    "\n",
    "# show the plot\n",
    "plt.show()\n",
    "print('Area under the ROC curve = ', roc_auc)\n",
    "\n",
    "fnr = 1 - tpr\n",
    "eer_threshold = (np.absolute(fnr[1]- fpr[1]))\n",
    "print('EER = ', eer_threshold)\n",
    "print('fpr =', fpr[1])\n",
    "print('tpr =', tpr[1])"
   ]
  },
  {
   "cell_type": "markdown",
   "metadata": {
    "colab_type": "text",
    "id": "n0JJ-uaDrAfm"
   },
   "source": [
    "#### Caluclate classification scores\n",
    "* plot precision-recall curve\n",
    "* calculate AUC\n",
    "* average precision"
   ]
  },
  {
   "cell_type": "code",
   "execution_count": 0,
   "metadata": {
    "colab": {
     "base_uri": "https://localhost:8080/",
     "height": 329
    },
    "colab_type": "code",
    "executionInfo": {
     "elapsed": 647,
     "status": "ok",
     "timestamp": 1567298742705,
     "user": {
      "displayName": "Swarnalata patra",
      "photoUrl": "https://lh3.googleusercontent.com/a-/AAuE7mDHwvq5ieIsBjvZ7af_tHAEz7Fbv0U4hvjWIkrWEQ=s64",
      "userId": "04308854459757051514"
     },
     "user_tz": -120
    },
    "id": "HEJ5v8Y9QhyP",
    "outputId": "21efdb62-6670-4a2a-cd10-6dbb112b6ce0"
   },
   "outputs": [
    {
     "name": "stdout",
     "output_type": "stream",
     "text": [
      "Average precision-recall score: 0.48\n"
     ]
    },
    {
     "data": {
      "text/plain": [
       "<matplotlib.collections.PolyCollection at 0x7f4b07feb3c8>"
      ]
     },
     "execution_count": 93,
     "metadata": {
      "tags": []
     },
     "output_type": "execute_result"
    },
    {
     "data": {
      "image/png": "[encoded data removed]",
      "text/plain": [
       "<Figure size 432x288 with 1 Axes>"
      ]
     },
     "metadata": {
      "tags": []
     },
     "output_type": "display_data"
    }
   ],
   "source": [
    "from sklearn.metrics import precision_recall_curve\n",
    "from sklearn.metrics import f1_score\n",
    "from sklearn.metrics import auc\n",
    "from sklearn.metrics import average_precision_score\n",
    "from sklearn.metrics import average_precision_score\n",
    "average_precision = average_precision_score(pred_scores, identical)\n",
    "\n",
    "print('Average precision-recall score: {0:0.2f}'.format(average_precision))\n",
    "precision, recall, thresholds = precision_recall_curve(pred_scores, identical)\n",
    "\n",
    "# plot  precision recall curve\n",
    "plt.plot([0, 1], [0.1, 0.1], linestyle='--')\n",
    "plt.xlabel('Recall')\n",
    "plt.ylabel('Precision')\n",
    "plt.title('Precision-Recall curve')\n",
    "plt.plot(recall, precision, marker='.')\n",
    "plt.fill_between(recall, precision, alpha=0.2, color='b')\n"
   ]
  },
  {
   "cell_type": "code",
   "execution_count": 0,
   "metadata": {
    "colab": {},
    "colab_type": "code",
    "id": "UfHfWguurAfn",
    "outputId": "bc36e9a6-73ca-409a-e66d-55019a079e7e"
   },
   "outputs": [
    {
     "name": "stdout",
     "output_type": "stream",
     "text": [
      "auc=0.868 ap=0.869\n"
     ]
    },
    {
     "data": {
      "image/png": "[encoded data removed]",
      "text/plain": [
       "<Figure size 432x288 with 1 Axes>"
      ]
     },
     "metadata": {
      "needs_background": "light",
      "tags": []
     },
     "output_type": "display_data"
    }
   ],
   "source": [
    "## DO NOT DELETE (For comparison)\n"
   ]
  }
 ],
 "metadata": {
  "colab": {
   "collapsed_sections": [],
   "name": "Siamese on ATT template.ipynb",
   "provenance": [],
   "toc_visible": true,
   "version": "0.3.2"
  },
  "kernelspec": {
   "display_name": "Python 3",
   "language": "python",
   "name": "python3"
  },
  "language_info": {
   "codemirror_mode": {
    "name": "ipython",
    "version": 3
   },
   "file_extension": ".py",
   "mimetype": "text/x-python",
   "name": "python",
   "nbconvert_exporter": "python",
   "pygments_lexer": "ipython3",
   "version": "3.6.9"
  }
 },
 "nbformat": 4,
 "nbformat_minor": 1
}
