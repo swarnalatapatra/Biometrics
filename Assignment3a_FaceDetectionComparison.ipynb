{
 "cells": [
  {
   "cell_type": "markdown",
   "metadata": {
    "colab_type": "text",
    "id": "4hIlmYQcNf0Y"
   },
   "source": [
    "# Comparison of Face Detection Algorithms"
   ]
  },
  {
   "cell_type": "markdown",
   "metadata": {
    "colab_type": "text",
    "id": "RnhkM-90Nf0a"
   },
   "source": [
    "## Objective\n",
    "In this first part of the third assignment, you will test different face detection algorithms as made available in Python through OpenCV, DLib or other Deep Learning packages.\n",
    "Since a dataset (Caltech) with ground truth bounding box coordinates has been made available, you can evaluate the output of the detectors through some overlap measures."
   ]
  },
  {
   "cell_type": "markdown",
   "metadata": {
    "colab_type": "text",
    "id": "aMgQq2IiNf0a"
   },
   "source": [
    "## Guidelines and code support\n",
    "You can follow the [Learn OpenCV tutorial on Face Detection](https://www.learnopencv.com/face-detection-opencv-dlib-and-deep-learning-c-python/) for some (very coarse) background info and (more importantly) code snippets for two \"conventional\" (HAAR-cascade, HOG) CV methods and two Deep Neural Net (Dlib) based (SSD, MMOD) methods. \n",
    "\n",
    "When using the [Download Code link](https://bigvisionllc.leadpages.net/leadbox/143948b73f72a2%3A173c9390c346dc/5649050225344512/) on that page, you will be downloading the Python/C++ code for all the tutorials. You just need to (re-)use the FaceDetectionComparison subdirectory for the relevant code.\n",
    "\n",
    "As far as I can tell, the face detector in the very concise [face_recognition package](https://face-recognition.readthedocs.io/en/latest/index.html) comes in 2 flavours: HOG and MMOD. This package is developed by Adam Geitgey on top of the DLib library developed by Davis King. It has a very convenient interface to face detection and recognition modules (see later) and can thus be substituted for the Dlib based code parts. "
   ]
  },
  {
   "cell_type": "markdown",
   "metadata": {
    "colab_type": "text",
    "id": "PQy3BXuHNf0b"
   },
   "source": [
    "## Understand the methods\n",
    "Please study the relevant publications on these detectors to understand their functioning. \n",
    "\n",
    "* Some background on Haar, HOG and MMOD face detectors can be found in this [Guide to Face Detection in Python](https://towardsdatascience.com/a-guide-to-face-detection-in-python-3eab0f6b9fc1). \n",
    "\n",
    "* For MMOD specifically, see: [Max-Margin Object Detection by Davis E. King](http://arxiv.org/abs/1502.00046) and the comments at the beginning of the [dnn_mmod_ex.cpp code](https://github.com/davisking/dlib/blob/master/examples/dnn_mmod_ex.cpp).\n",
    "\n",
    "* For further info on the Single-Shot-Multibox Detector, see [the arXiv publication](https://arxiv.org/abs/1512.02325).\n",
    "\n",
    "* For the face_recognition package some info (for the face recognition part at least) can be found [here](https://medium.com/@ageitgey/machine-learning-is-fun-part-4-modern-face-recognition-with-deep-learning-c3cffc121d78).\n",
    "\n",
    "You can summarize the methods inside the notebook if you wish. \n",
    "\n"
   ]
  },
  {
   "cell_type": "markdown",
   "metadata": {
    "colab_type": "text",
    "id": "Fh246JGeNf0c"
   },
   "source": [
    "## Implement and Validate\n",
    "Apply these 4 techniques to the CALTECH Faces Dataset. You can re-use code made available by the packages listed previously. \n",
    "\n",
    "Show some results (e.g. a la the run-all.py module) to appreciate qualitively. \n",
    "\n",
    "You can then quantitatively evaluate the results by comparing the returned locations to the ground truth locations and validate the algorithms as such. \n",
    "\n",
    "Think about ways to measure the detection results. \n",
    "\n",
    "Guidelines (and python code) can be found in: \n",
    "* [the face detection comparison tutorial](https://www.learnopencv.com/face-detection-opencv-dlib-and-deep-learning-c-python/), more specifically (section 5) the issues of using a reasonable overlap measure (AP_50). \n",
    "* [general object detection validation - Cartucho](https://github.com/Cartucho/mAP)\n",
    "* [general object detection validation - Padilla](https://github.com/rafaelpadilla/Object-Detection-Metrics)\n",
    "* [mean Average Precision - Hui](https://medium.com/@jonathan_hui/map-mean-average-precision-for-object-detection-45c121a31173)\n",
    "* [mean Average Precision - Arlen](https://medium.com/@timothycarlen/understanding-the-map-evaluation-metric-for-object-detection-a07fe6962cf3)"
   ]
  },
  {
   "cell_type": "markdown",
   "metadata": {
    "colab_type": "text",
    "id": "R4WowUSDNf0d"
   },
   "source": [
    "#### Importing Required Python  packages"
   ]
  },
  {
   "cell_type": "code",
   "execution_count": 0,
   "metadata": {
    "colab": {},
    "colab_type": "code",
    "id": "PeLOW8iyNf0j"
   },
   "outputs": [],
   "source": [
    "# sklearn packagees\n",
    "from sklearn.model_selection import train_test_split, GridSearchCV\n",
    "from sklearn.decomposition import PCA\n",
    "from sklearn.discriminant_analysis import LinearDiscriminantAnalysis\n",
    "from sklearn.svm import SVC\n",
    "from sklearn.preprocessing import LabelEncoder\n",
    "\n",
    "# varia\n",
    "import numpy as np\n",
    "import cv2\n",
    "import dlib\n",
    "from pathlib import Path\n",
    "\n",
    "import matplotlib.pyplot as plt\n",
    "# the following package contains some handy routines for image manipulation\n",
    "# they have been developed by Adrian Rosenbrock\n",
    "# simply install this package in your environment using \"conda install imutils\"\n",
    "# see https://www.pyimagesearch.com/opencv-tutorials-resources-guides/ for further info\n",
    "import imutils\n",
    "from imutils import face_utils\n",
    "\n",
    "from pathlib import Path\n",
    "from scipy import io\n",
    "import scipy\n",
    "import os\n",
    "from collections import namedtuple\n",
    "import glob\n"
   ]
  },
  {
   "cell_type": "code",
   "execution_count": 0,
   "metadata": {
    "colab": {
     "base_uri": "https://localhost:8080/",
     "height": 122
    },
    "colab_type": "code",
    "executionInfo": {
     "elapsed": 23332,
     "status": "ok",
     "timestamp": 1567273945863,
     "user": {
      "displayName": "Swarnalata patra",
      "photoUrl": "https://lh3.googleusercontent.com/a-/AAuE7mDHwvq5ieIsBjvZ7af_tHAEz7Fbv0U4hvjWIkrWEQ=s64",
      "userId": "04308854459757051514"
     },
     "user_tz": -120
    },
    "id": "4LaUYHn6NoYB",
    "outputId": "52118301-a2d2-41f0-e3df-777bd2aa7a40"
   },
   "outputs": [
    {
     "name": "stdout",
     "output_type": "stream",
     "text": [
      "Go to this URL in a browser: https://accounts.google.com/o/oauth2/auth?client_id=947318989803-6bn6qk8qdgf4n4g3pfee6491hc0brc4i.apps.googleusercontent.com&redirect_uri=urn%3Aietf%3Awg%3Aoauth%3A2.0%3Aoob&scope=email%20https%3A%2F%2Fwww.googleapis.com%2Fauth%2Fdocs.test%20https%3A%2F%2Fwww.googleapis.com%2Fauth%2Fdrive%20https%3A%2F%2Fwww.googleapis.com%2Fauth%2Fdrive.photos.readonly%20https%3A%2F%2Fwww.googleapis.com%2Fauth%2Fpeopleapi.readonly&response_type=code\n",
      "\n",
      "Enter your authorization code:\n",
      "··········\n",
      "Mounted at /content/drive\n"
     ]
    }
   ],
   "source": [
    "# For COLAB\n",
    "from google.colab import drive\n",
    "drive.mount('/content/drive')\n",
    "# drive.mount('/content/drive', force_remount=True)"
   ]
  },
  {
   "cell_type": "code",
   "execution_count": 0,
   "metadata": {
    "colab": {
     "base_uri": "https://localhost:8080/",
     "height": 34
    },
    "colab_type": "code",
    "executionInfo": {
     "elapsed": 1602,
     "status": "ok",
     "timestamp": 1567274014285,
     "user": {
      "displayName": "Swarnalata patra",
      "photoUrl": "https://lh3.googleusercontent.com/a-/AAuE7mDHwvq5ieIsBjvZ7af_tHAEz7Fbv0U4hvjWIkrWEQ=s64",
      "userId": "04308854459757051514"
     },
     "user_tz": -120
    },
    "id": "yi4lewXZNxLW",
    "outputId": "1636f8dd-3c7f-4fd5-8ec9-d454f8a45ad8"
   },
   "outputs": [
    {
     "name": "stdout",
     "output_type": "stream",
     "text": [
      "/content/drive/My Drive/Colab Notebooks/Biometrics\n"
     ]
    }
   ],
   "source": [
    "# For COLAB\n",
    "%cd drive/My\\ Drive/Colab\\ Notebooks/Biometrics\n",
    "# pwd"
   ]
  },
  {
   "cell_type": "code",
   "execution_count": 0,
   "metadata": {
    "colab": {},
    "colab_type": "code",
    "id": "7WSZ41gONf0l"
   },
   "outputs": [],
   "source": [
    "from localmodules.datasets import load_faces\n",
    "\n",
    "# For COLAB\n",
    "caltechDataset = Path(\"./CalTechFacesDirs\")\n",
    "caltechDatasetDir = \"./CalTechFacesDirs/\"\n",
    "\n",
    "# max number of persons to extract from database\n",
    "max_persons = 10\n",
    "\n",
    "faces = load_faces(\"CALTECH\", dataset = caltechDataset, min_faces=10, max_targets=max_persons)\n"
   ]
  },
  {
   "cell_type": "markdown",
   "metadata": {
    "colab_type": "text",
    "id": "a43PFEUnNf0n"
   },
   "source": [
    "#### Print data statistics"
   ]
  },
  {
   "cell_type": "code",
   "execution_count": 0,
   "metadata": {
    "colab": {
     "base_uri": "https://localhost:8080/",
     "height": 85
    },
    "colab_type": "code",
    "executionInfo": {
     "elapsed": 1551,
     "status": "ok",
     "timestamp": 1567274237455,
     "user": {
      "displayName": "Swarnalata patra",
      "photoUrl": "https://lh3.googleusercontent.com/a-/AAuE7mDHwvq5ieIsBjvZ7af_tHAEz7Fbv0U4hvjWIkrWEQ=s64",
      "userId": "04308854459757051514"
     },
     "user_tz": -120
    },
    "id": "3Z4Njwa-Nf0o",
    "outputId": "1c4b68ac-d747-44c8-9e5f-63314a2cb769"
   },
   "outputs": [
    {
     "name": "stdout",
     "output_type": "stream",
     "text": [
      "Total dataset size:\n",
      "n_samples: 98\n",
      "n_features: 2914\n",
      "n_classes: 6\n"
     ]
    }
   ],
   "source": [
    "# extract number of samples and image dimensions (for later display)\n",
    "n_samples, h, w = faces.images.shape\n",
    "\n",
    "# for machine learning we use the flattened data\n",
    "X = faces.data\n",
    "n_features = X.shape[1]\n",
    "\n",
    "# the label to predict is the id of the person\n",
    "y = faces.target\n",
    "# encode the labels to integers\n",
    "le = LabelEncoder()\n",
    "y = le.fit_transform(y)\n",
    "n_classes = np.unique(y).shape[0]\n",
    "\n",
    "print(\"Total dataset size:\")\n",
    "print(\"n_samples: %d\" % n_samples)\n",
    "print(\"n_features: %d\" % n_features)\n",
    "print(\"n_classes: %d\" % n_classes)"
   ]
  },
  {
   "cell_type": "markdown",
   "metadata": {
    "colab_type": "text",
    "id": "jNslZRd_Nf0q"
   },
   "source": [
    "## To test different face detection algorithms "
   ]
  },
  {
   "cell_type": "markdown",
   "metadata": {
    "colab_type": "text",
    "id": "iJSik5SyNf0r"
   },
   "source": [
    "### Haar Cascade Classifiers using OpenCV\n",
    "- a special case of ensemble learning, called boosting\n",
    "- Viola–Jones object detection framework includes: (1)Haar Feature Selection (features derived from Haar wavelets), (2)integral image (an intermediate representation for the image), (3)Adaboost Training, (4)Cascading Classifiers."
   ]
  },
  {
   "cell_type": "code",
   "execution_count": 0,
   "metadata": {
    "colab": {},
    "colab_type": "code",
    "id": "DeLPBuVaNf0u",
    "scrolled": true
   },
   "outputs": [],
   "source": [
    "# Declaring Cascade classifiers\n",
    "# Detecting faces in CALTECH Dataset\n",
    "font = cv2.FONT_HERSHEY_SIMPLEX\n",
    "\n",
    "# For COLAB\n",
    "cascPath  = \"./haarcascade_frontalface_default.xml\"\n",
    "# eyePath = \"./haarcascade_eye.xml\"\n",
    "# smilePath = \"./haarcascade_smile.xml\"\n",
    "\n",
    "faceCascade = cv2.CascadeClassifier(cascPath)\n",
    "# eyeCascade = cv2.CascadeClassifier(eyePath)\n",
    "# smileCascade = cv2.CascadeClassifier(smilePath)\n",
    "\n",
    "\n",
    "def haar_detector(gray_img):\n",
    "    dets = faceCascade.detectMultiScale3(gray_img, outputRejectLevels = True)\n",
    "    faces = dets[0]\n",
    "    neighbours = dets[1]\n",
    "    weights = dets[2]\n",
    "    boxes = []\n",
    "    \n",
    "    for (x, y, w, h) in faces:\n",
    "      x1 = x\n",
    "      y1 = y\n",
    "      x2 = x + w\n",
    "      y2 = y + h\n",
    "      face_detect = cv2.rectangle(gray_img, (x1, y1), (x2, y2), (255, 0, 0), 2)\n",
    "      roi_gray = gray_img[y1:y2, x1:x2]\n",
    "      score = weights[0][0]\n",
    "      frect = [score,x1,y1,x2,y2]\n",
    "      boxes.append(frect)\n",
    "    \n",
    "    return boxes\n"
   ]
  },
  {
   "cell_type": "markdown",
   "metadata": {
    "colab_type": "text",
    "id": "XaL7JIw_Nf0y"
   },
   "source": [
    "### Histogram of Oriented Gradients (HOG) in Dlib\n",
    "The idea behind HOG is to extract features into a vector and feed it into a classification algorithm like SVM. The features extracted are the distribution (histograms) of directions of gradients (oriented gradients) of the image."
   ]
  },
  {
   "cell_type": "code",
   "execution_count": 0,
   "metadata": {
    "colab": {},
    "colab_type": "code",
    "id": "CWvX4hzzNf07"
   },
   "outputs": [],
   "source": [
    "def hog_detector(gray_img):\n",
    "    frect = []\n",
    "    boxes = []\n",
    "    hog_face_detect = dlib.get_frontal_face_detector()\n",
    "    rects, scores, index = hog_face_detect.run(gray_img, 1)\n",
    "    for i in range(len(rects)):\n",
    "            x1 = rects[i].left()\n",
    "            y1 = rects[i].top()\n",
    "            x2 = rects[i].right()\n",
    "            y2 = rects[i].bottom()\n",
    "            score = scores[i]\n",
    "            frect = [score, x1, y1, x2, y2]\n",
    "            boxes.append(frect)\n",
    "    return boxes\n"
   ]
  },
  {
   "cell_type": "markdown",
   "metadata": {
    "colab_type": "text",
    "id": "0tBD13FXNf0_"
   },
   "source": [
    "### SSD Deep Learning Method\n",
    "Reference: https://www.pyimagesearch.com/2018/02/26/face-detection-with-opencv-and-deep-learning/#post_downloads\n",
    "\n",
    "https://github.com/opencv/opencv/issues/12520"
   ]
  },
  {
   "cell_type": "code",
   "execution_count": 0,
   "metadata": {
    "colab": {},
    "colab_type": "code",
    "id": "_Or6AAqlRD01"
   },
   "outputs": [],
   "source": [
    "\n",
    "def ssd_detector(gray_img):\n",
    "#   print(os.getcwd())\n",
    "  \n",
    "  modelFile = \"./res10_300x300_ssd_iter_140000.caffemodel\"\n",
    "  configFile = \"./deploy.prototxt\"\n",
    "  net = cv2.dnn.readNetFromCaffe(configFile, modelFile)\n",
    "  blob = cv2.dnn.blobFromImage(cv2.resize(gray_img, (300, 300)), 1.0, (300, 300), (104.0, 177.0, 123.0))\n",
    "  net.setInput(blob)\n",
    "  detections = net.forward()\n",
    "\n",
    "  boxes = []\n",
    "  h = gray_img.shape[0]\n",
    "  w = gray_img.shape[1]\n",
    "  threshold = 0.6 # default threshold = 0.5\n",
    "\n",
    "  for i in range(detections.shape[2]):\n",
    "      score = detections[0, 0, i, 2]\n",
    "#       print(score)\n",
    "      if score > threshold:\n",
    "          x1 = int(detections[0, 0, i, 3] * w)\n",
    "          y1 = int(detections[0, 0, i, 4] * h)\n",
    "          x2 = int(detections[0, 0, i, 5] * w)\n",
    "          y2 = int(detections[0, 0, i, 6] * h)\n",
    "          frect = [score, x1, y1, x2, y2]\n",
    "          boxes.append(frect)\n",
    "\n",
    "  return boxes"
   ]
  },
  {
   "cell_type": "markdown",
   "metadata": {
    "colab_type": "text",
    "id": "lTjCgIK6Nf1A"
   },
   "source": [
    "### MMOD Deep Learning Method"
   ]
  },
  {
   "cell_type": "code",
   "execution_count": 0,
   "metadata": {
    "colab": {},
    "colab_type": "code",
    "id": "or3kYZxmNf1B"
   },
   "outputs": [],
   "source": [
    "dnnFaceDetector = dlib.cnn_face_detection_model_v1(\"./mmod_human_face_detector.dat\")\n",
    "\n",
    "def mmod_detector(gray_img):\n",
    "    boxes = []   \n",
    "    mmod_face_detect = dnnFaceDetector(gray_img, 1)\n",
    "    for i, rects in enumerate(mmod_face_detect):\n",
    "        x1 = rects.rect.left()\n",
    "        y1 = rects.rect.top()\n",
    "        x2 = rects.rect.right()\n",
    "        y2 = rects.rect.bottom()\n",
    "        score = rects.confidence\n",
    "        frect = [score, x1, y1, x2, y2]\n",
    "        boxes.append(frect)        \n",
    "    return boxes"
   ]
  },
  {
   "cell_type": "markdown",
   "metadata": {
    "colab_type": "text",
    "id": "_Dx-CbXWh8tJ"
   },
   "source": [
    "## Saving information in .txt files for \n",
    "1) Ground Truth: It creates a text file for each image that contains the ground truth bounding boxes describing the locations of faces. This is needed for Evaluation of different face detetction techniques.\n",
    "https://github.com/Cartucho/mAP/blob/master/main.py\n",
    "\n",
    "2) Different methods of Face detection (Haar, Hog, Mmod, Ssd)"
   ]
  },
  {
   "cell_type": "code",
   "execution_count": 0,
   "metadata": {
    "colab": {
     "base_uri": "https://localhost:8080/",
     "height": 153
    },
    "colab_type": "code",
    "executionInfo": {
     "elapsed": 48203,
     "status": "ok",
     "timestamp": 1567275412075,
     "user": {
      "displayName": "Swarnalata patra",
      "photoUrl": "https://lh3.googleusercontent.com/a-/AAuE7mDHwvq5ieIsBjvZ7af_tHAEz7Fbv0U4hvjWIkrWEQ=s64",
      "userId": "04308854459757051514"
     },
     "user_tz": -120
    },
    "id": "MCMopHQVc--1",
    "outputId": "3f7e395a-a50f-40da-8dbd-eca56ffd158f"
   },
   "outputs": [
    {
     "name": "stdout",
     "output_type": "stream",
     "text": [
      "[]\n",
      "Face couldnt be detected for image: image_0325.jpg \n",
      " Cuurent count: 163\n",
      "[]\n",
      "Face couldnt be detected for image: image_0016.jpg \n",
      " Cuurent count: 439\n",
      "Total number of images with no faces detected: 2\n",
      "DONE\n"
     ]
    }
   ],
   "source": [
    "imgfiles = [] \n",
    "curr_dir = '/content/drive/My Drive/Colab Notebooks/Biometrics'\n",
    "os.chdir(curr_dir)\n",
    "\n",
    "haar_outPath = './Object-Detection-Metrics-master/detectionsHaar'\n",
    "hog_outPath =  './Object-Detection-Metrics-master/detectionsHog'\n",
    "mmod_outPath = './Object-Detection-Metrics-master/detectionsMmod'\n",
    "ssd_outPath =  './Object-Detection-Metrics-master/detectionsSsd'\n",
    "boxes = []\n",
    "\n",
    "# # Ground Truth data extraction\n",
    "# gtPath = \"./Object-Detection-Metrics-master/groundtruths\"\n",
    "# gtImages = []\n",
    "# matContent = scipy.io.loadmat(os.path.join(gtPath,'ImageData.mat'))\n",
    "# gtData = matContent[\"SubDir_Data\"].T\n",
    "\n",
    "\n",
    "# Methods can be haar, hog, mmod, ssd\n",
    "method = 'ssd' \n",
    "cnt = 0\n",
    "issue_cnt = 0\n",
    "k=0\n",
    "for file in glob.glob(caltechDatasetDir + \"*/*.jpg\", recursive=True):\n",
    "  \n",
    "  imgfiles.append(file)\n",
    "\n",
    "  # Extracting file name to create output file\n",
    "  imgpath, filename = os.path.split(file)\n",
    "  file_name = filename.split('.')[0]\n",
    "  label = imgpath.split('/')[-1]\n",
    "\n",
    "  # Reading the image\n",
    "  img = cv2.imread(file,cv2.IMREAD_COLOR)\n",
    "  imgtest1 = img.copy()\n",
    "  gray_img = cv2.cvtColor(imgtest1, cv2.COLOR_BGR2GRAY)\n",
    "  \n",
    "#   # Writing Ground truth information from Image.mat file to txt file under GroundTruth Path\n",
    "#   f = open(gtPath+'/'+file_name+'.txt', 'w') \n",
    "#   (xBL, yBL, xTL, yTL, xTR, yTR, xBR, yBR) = gtData[k].astype(\"int\")\n",
    "#   Data = namedtuple('Image', 'image xTL, yTL, xBR, yBR')\n",
    "#   im = Data(image = str(file_name),  xTL = xTL, yTL = yTL, xBR = xBR, yBR = yBR )\n",
    "#   gtImages.append(im)\n",
    "#   f.write('face'+ ' ' + str(xTL)+ ' '+ str(yTL) + ' '+ str(xBR) + ' '+ str(yBR) ) \n",
    "#   f.close() \n",
    "\n",
    "  # Passing gray_img for face detection through various methods\n",
    "  \n",
    "  if (method == 'haar'):\n",
    "    #HAAR\n",
    "    haar_boxes = haar_detector(gray_img)  \n",
    "    boxes.append(haar_boxes)\n",
    "    outPath = haar_outPath\n",
    "#     Total number of images with no faces detected: 2\n",
    "\n",
    "  \n",
    "  elif (method == 'hog'):\n",
    "    #HOG\n",
    "    hog_boxes = hog_detector(gray_img)  \n",
    "    boxes.append(hog_boxes)\n",
    "    outPath = hog_outPath\n",
    " \n",
    "  elif (method == 'mmod'):\n",
    "    #MMOd\n",
    "    mmod_boxes = mmod_detector(gray_img)  \n",
    "    boxes.append(mmod_boxes)\n",
    "    outPath = mmod_outPath\n",
    "  \n",
    "  elif (method == 'ssd'):\n",
    "    #SSD\n",
    "    ssd_boxes = ssd_detector(img)  \n",
    "    boxes.append(ssd_boxes)\n",
    "    outPath = ssd_outPath\n",
    "\n",
    "\n",
    "# Needed in case the folders for each image was used\n",
    "#   os.chdir(outPath)\n",
    "#   if not os.path.exists(label):\n",
    "#     os.makedirs(label)\n",
    "#   os.chdir(curr_dir)\n",
    "\n",
    "  \n",
    "#   f = open(outPath+'/'+str(label)+'/'+str(file_name)+'.txt', 'w')  - # to store the files i respective folders\n",
    "  f = open(outPath+'/'+str(file_name)+'.txt', 'w') \n",
    "  if(len(boxes[-1])>0):\n",
    "    for box in boxes[-1]:\n",
    "      f.write('face' + ' ' + str(box[0])+ ' '+  str(box[1]) + ' '+  str(box[2]) + ' '+  str(box[3]) + ' '+  str(box[4])+'\\n' )\n",
    "  else:\n",
    "    print(boxes[-1])\n",
    "    print(\"Face couldnt be detected for image:\",filename,\"\\n Cuurent count:\",cnt)\n",
    "    issue_cnt+=1\n",
    "  f.close()\n",
    "  cnt+=1\n",
    "\n",
    "print(\"Total number of images with no faces detected:\", issue_cnt)\n",
    "print(\"DONE\")\n"
   ]
  },
  {
   "cell_type": "markdown",
   "metadata": {
    "colab_type": "text",
    "id": "5UmyfbAyVELW"
   },
   "source": [
    "## Evaluation of Different Detection methods"
   ]
  },
  {
   "cell_type": "markdown",
   "metadata": {
    "colab_type": "text",
    "id": "BT9IUSSfVL9K"
   },
   "source": [
    "#### Precision-Recall\n",
    "https://github.com/rafaelpadilla/Object-Detection-Metrics\n",
    "\n",
    "The pascalvoc.py file was used from the above link to calculate the precision recall curves."
   ]
  },
  {
   "cell_type": "code",
   "execution_count": 0,
   "metadata": {
    "colab": {
     "base_uri": "https://localhost:8080/",
     "height": 344
    },
    "colab_type": "code",
    "executionInfo": {
     "elapsed": 2733,
     "status": "ok",
     "timestamp": 1567274544802,
     "user": {
      "displayName": "Swarnalata patra",
      "photoUrl": "https://lh3.googleusercontent.com/a-/AAuE7mDHwvq5ieIsBjvZ7af_tHAEz7Fbv0U4hvjWIkrWEQ=s64",
      "userId": "04308854459757051514"
     },
     "user_tz": -120
    },
    "id": "_ayfxA1dVKJ5",
    "outputId": "e3548f21-223b-486c-8958-f6c135123a65"
   },
   "outputs": [
    {
     "data": {
      "image/png": "[encoded data removed]",
      "text/plain": [
       "<Figure size 432x288 with 1 Axes>"
      ]
     },
     "metadata": {
      "tags": []
     },
     "output_type": "display_data"
    },
    {
     "name": "stdout",
     "output_type": "stream",
     "text": [
      "AP: 7.01% (face)\n",
      "mAP: 7.01%\n"
     ]
    }
   ],
   "source": [
    "curr_dir = '/content/drive/My Drive/Colab Notebooks/Biometrics'\n",
    "os.chdir(curr_dir)\n",
    "%run -i \"./Object-Detection-Metrics-master/pascalvoc.py\" -det \"detectionsHaar/\""
   ]
  },
  {
   "cell_type": "code",
   "execution_count": 0,
   "metadata": {
    "colab": {
     "base_uri": "https://localhost:8080/",
     "height": 344
    },
    "colab_type": "code",
    "executionInfo": {
     "elapsed": 2907,
     "status": "ok",
     "timestamp": 1567275176943,
     "user": {
      "displayName": "Swarnalata patra",
      "photoUrl": "https://lh3.googleusercontent.com/a-/AAuE7mDHwvq5ieIsBjvZ7af_tHAEz7Fbv0U4hvjWIkrWEQ=s64",
      "userId": "04308854459757051514"
     },
     "user_tz": -120
    },
    "id": "w5RetrmjVKpa",
    "outputId": "47480e43-eed3-4df5-a7ee-3f368f884af5"
   },
   "outputs": [
    {
     "data": {
      "image/png": "[encoded data removed]",
      "text/plain": [
       "<Figure size 432x288 with 1 Axes>"
      ]
     },
     "metadata": {
      "tags": []
     },
     "output_type": "display_data"
    },
    {
     "name": "stdout",
     "output_type": "stream",
     "text": [
      "AP: 2.00% (face)\n",
      "mAP: 2.00%\n"
     ]
    }
   ],
   "source": [
    "curr_dir = '/content/drive/My Drive/Colab Notebooks/Biometrics'\n",
    "os.chdir(curr_dir)\n",
    "%run -i \"./Object-Detection-Metrics-master/pascalvoc.py\" -det \"detectionsHog/\""
   ]
  },
  {
   "cell_type": "code",
   "execution_count": 0,
   "metadata": {
    "colab": {
     "base_uri": "https://localhost:8080/",
     "height": 344
    },
    "colab_type": "code",
    "executionInfo": {
     "elapsed": 1892,
     "status": "ok",
     "timestamp": 1567275342166,
     "user": {
      "displayName": "Swarnalata patra",
      "photoUrl": "https://lh3.googleusercontent.com/a-/AAuE7mDHwvq5ieIsBjvZ7af_tHAEz7Fbv0U4hvjWIkrWEQ=s64",
      "userId": "04308854459757051514"
     },
     "user_tz": -120
    },
    "id": "XcMOMxd64Zvx",
    "outputId": "ac224d9b-66a8-4a97-ed2c-95fd9156bfe3"
   },
   "outputs": [
    {
     "data": {
      "image/png": "[encoded data removed]",
      "text/plain": [
       "<Figure size 432x288 with 1 Axes>"
      ]
     },
     "metadata": {
      "tags": []
     },
     "output_type": "display_data"
    },
    {
     "name": "stdout",
     "output_type": "stream",
     "text": [
      "AP: 5.07% (face)\n",
      "mAP: 5.07%\n"
     ]
    }
   ],
   "source": [
    "curr_dir = '/content/drive/My Drive/Colab Notebooks/Biometrics'\n",
    "os.chdir(curr_dir)\n",
    "%run -i \"./Object-Detection-Metrics-master/pascalvoc.py\" -det \"detectionsMmod/\""
   ]
  },
  {
   "cell_type": "code",
   "execution_count": 0,
   "metadata": {
    "colab": {
     "base_uri": "https://localhost:8080/",
     "height": 344
    },
    "colab_type": "code",
    "executionInfo": {
     "elapsed": 2026,
     "status": "ok",
     "timestamp": 1567275429909,
     "user": {
      "displayName": "Swarnalata patra",
      "photoUrl": "https://lh3.googleusercontent.com/a-/AAuE7mDHwvq5ieIsBjvZ7af_tHAEz7Fbv0U4hvjWIkrWEQ=s64",
      "userId": "04308854459757051514"
     },
     "user_tz": -120
    },
    "id": "s3UR30eY4Z65",
    "outputId": "f64ef0a7-afad-4567-808d-9269404ea75a"
   },
   "outputs": [
    {
     "data": {
      "image/png": "[encoded data removed]",
      "text/plain": [
       "<Figure size 432x288 with 1 Axes>"
      ]
     },
     "metadata": {
      "tags": []
     },
     "output_type": "display_data"
    },
    {
     "name": "stdout",
     "output_type": "stream",
     "text": [
      "AP: 10.18% (face)\n",
      "mAP: 10.18%\n"
     ]
    }
   ],
   "source": [
    "curr_dir = '/content/drive/My Drive/Colab Notebooks/Biometrics'\n",
    "os.chdir(curr_dir)\n",
    "%run -i \"./Object-Detection-Metrics-master/pascalvoc.py\" -det \"detectionsSsd/\""
   ]
  },
  {
   "cell_type": "markdown",
   "metadata": {
    "colab_type": "text",
    "id": "JJaouCeh5fJR"
   },
   "source": [
    "## Conclusion\n",
    "From the above Precision-Recall curves, we conclude that SSD method is superior compared to other face detection methods. Here the precision value keeps increasing along with the recall which is the ideal scenario. However, by changing the confidence threshold we get different results."
   ]
  }
 ],
 "metadata": {
  "accelerator": "GPU",
  "colab": {
   "collapsed_sections": [],
   "name": "Assignment3a_FaceDetectionComparison.ipynb",
   "provenance": [],
   "toc_visible": true,
   "version": "0.3.2"
  },
  "kernelspec": {
   "display_name": "Python 3",
   "language": "python",
   "name": "python3"
  },
  "language_info": {
   "codemirror_mode": {
    "name": "ipython",
    "version": 3
   },
   "file_extension": ".py",
   "mimetype": "text/x-python",
   "name": "python",
   "nbconvert_exporter": "python",
   "pygments_lexer": "ipython3",
   "version": "3.6.9"
  }
 },
 "nbformat": 4,
 "nbformat_minor": 1
}
